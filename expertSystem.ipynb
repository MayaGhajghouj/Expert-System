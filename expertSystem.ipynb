{
 "cells": [
  {
   "cell_type": "markdown",
   "metadata": {},
   "source": [
    "<h1 style=\"color: purple\">Maya Ghajghouj 201820042</h1>"
   ]
  },
  {
   "cell_type": "markdown",
   "metadata": {},
   "source": [
    "<h1>Expert System Final HomeWork </h1>"
   ]
  },
  {
   "cell_type": "code",
   "execution_count": 1,
   "metadata": {},
   "outputs": [],
   "source": [
    "import clips "
   ]
  },
  {
   "cell_type": "code",
   "execution_count": 2,
   "metadata": {},
   "outputs": [],
   "source": [
    "env = clips.Environment()"
   ]
  },
  {
   "cell_type": "markdown",
   "metadata": {},
   "source": [
    "<h2>Our Project Description :</h2><br> <h3>the studdent will enter the university_housing information and the system will give you the price for his housing</h3>"
   ]
  },
  {
   "cell_type": "markdown",
   "metadata": {},
   "source": [
    "<h4>first : we will build the template for university-housing student information</h4>"
   ]
  },
  {
   "cell_type": "code",
   "execution_count": 3,
   "metadata": {},
   "outputs": [],
   "source": [
    "env.reset()"
   ]
  },
  {
   "cell_type": "code",
   "execution_count": 4,
   "metadata": {},
   "outputs": [],
   "source": [
    "env.build(\"\"\" \n",
    "(\n",
    "          deftemplate universityhousing\n",
    "          (slot name)\n",
    "          (slot universiity_number)\n",
    "          (slot house_type (allowed-values vip normal))\n",
    "          (slot house_time (allowed-values always normal))\n",
    "          (slot house_with (allowed-values yes no) (default no))\n",
    "          (slot room_typee (allowed-values odd even sweet))\n",
    "          (slot house_floor (type INTEGER)(allowed-values 0 1 2 3 4 5 ) (default 0))\n",
    "          (slot house_view (allowed-values east west ))\n",
    "          (slot telephone_services (allowed-values yes no ))\n",
    "          (slot internet_services (allowed-values yes no )) \n",
    "          (slot clean_services (allowed-values yes no ))\n",
    ")\n",
    "\"\"\")"
   ]
  },
  {
   "cell_type": "code",
   "execution_count": 5,
   "metadata": {},
   "outputs": [],
   "source": [
    "house_template=env.find_template('universityhousing')"
   ]
  },
  {
   "cell_type": "markdown",
   "metadata": {},
   "source": [
    "lets make one fact for the tamplate \"university_housing\""
   ]
  },
  {
   "cell_type": "code",
   "execution_count": 6,
   "metadata": {},
   "outputs": [
    {
     "data": {
      "text/plain": [
       "TemplateFact: (universityhousing (name \"maya\") (universiity_number \"555555\") (house_type vip) (house_time normal) (house_with no) (room_typee odd) (house_floor 4) (house_view east) (telephone_services no) (internet_services no) (clean_services no))"
      ]
     },
     "execution_count": 6,
     "metadata": {},
     "output_type": "execute_result"
    }
   ],
   "source": [
    "InputName=input(\"what is your name ?\")\n",
    "InputUniNumber=input(\"what is your university number? \")\n",
    "InputHouseType=input(\"what is your house_type ? (vip normal)\")\n",
    "InputHouseTime=input(\"what is your house_time ? (normal always)\")\n",
    "InputHouseWith=input(\"are you house with freind ? (yes no)\")\n",
    "InputRoom=input(\"What is your room_type ? (odd even sweet)\")\n",
    "InputHouseFloor=int(input(\"what is your house_floor you need ? (0 1 2 3 4 5)\"))\n",
    "InputHouseView=input(\"what is your house_view you need ? (east west)\")\n",
    "InputTelServices=input(\"do you want telephone services ? (yes no)\")\n",
    "InputInternetServices=input(\"do you want internet services ? (yes no)\")\n",
    "InputCleanServices=input(\"do you want clean services ? (yes no)\")\n",
    "\n",
    "house_template.assert_fact(\n",
    "name=InputName,\n",
    "universiity_number=InputUniNumber,\n",
    "house_type=clips.Symbol(f'{InputHouseType}'),\n",
    "house_time=clips.Symbol(f'{InputHouseTime}'),\n",
    "house_with=clips.Symbol(f'{InputHouseWith}'),\n",
    "room_typee=clips.Symbol(f'{InputRoom}'),\n",
    "house_floor=InputHouseFloor,\n",
    "house_view=clips.Symbol(f'{InputHouseView}'),\n",
    "telephone_services=clips.Symbol(f'{InputTelServices}'),\n",
    "internet_services=clips.Symbol(f'{InputInternetServices}'),\n",
    "clean_services=clips.Symbol(f'{InputCleanServices}'),\n",
    ")\n"
   ]
  },
  {
   "cell_type": "code",
   "execution_count": 7,
   "metadata": {},
   "outputs": [
    {
     "name": "stdout",
     "output_type": "stream",
     "text": [
      "(universityhousing (name \"maya\") (universiity_number \"555555\") (house_type vip) (house_time normal) (house_with no) (room_typee odd) (house_floor 4) (house_view east) (telephone_services no) (internet_services no) (clean_services no))\n"
     ]
    }
   ],
   "source": [
    "for f in env.facts():\n",
    "    print(f)"
   ]
  },
  {
   "cell_type": "markdown",
   "metadata": {},
   "source": [
    "<h4>third : lets insert the facts from user input and the facts allprice </h4>"
   ]
  },
  {
   "cell_type": "code",
   "execution_count": 8,
   "metadata": {},
   "outputs": [
    {
     "data": {
      "text/plain": [
       "ImpliedFact: (allprice 0)"
      ]
     },
     "execution_count": 8,
     "metadata": {},
     "output_type": "execute_result"
    }
   ],
   "source": [
    "env.assert_string('(allprice 0)')"
   ]
  },
  {
   "cell_type": "markdown",
   "metadata": {},
   "source": [
    "<h4>second : lets make our functions</h4>"
   ]
  },
  {
   "cell_type": "markdown",
   "metadata": {},
   "source": [
    "1_ function for house_type"
   ]
  },
  {
   "cell_type": "code",
   "execution_count": 9,
   "metadata": {},
   "outputs": [],
   "source": [
    "def house_type_fun(type):\n",
    "    price=0\n",
    "    if(type=='vip'):\n",
    "        price=200\n",
    "        return price\n",
    "    else:\n",
    "        price=50\n",
    "        return price\n",
    "env.define_function(house_type_fun, name='house_type_fun')\n",
    "    "
   ]
  },
  {
   "cell_type": "markdown",
   "metadata": {},
   "source": [
    "2_ function for house_time"
   ]
  },
  {
   "cell_type": "code",
   "execution_count": 10,
   "metadata": {},
   "outputs": [],
   "source": [
    "def house_time_fun(time):\n",
    "    price=0\n",
    "    if(time=='normal'):\n",
    "        return price\n",
    "    else:\n",
    "        price=150\n",
    "        return price\n",
    "env.define_function(house_time_fun, name='house_time_fun')\n",
    "    "
   ]
  },
  {
   "cell_type": "markdown",
   "metadata": {},
   "source": [
    "3_ function for room_type"
   ]
  },
  {
   "cell_type": "code",
   "execution_count": 11,
   "metadata": {},
   "outputs": [],
   "source": [
    "def room_type_fun(type,housewithfreind):\n",
    "    price=0\n",
    "    if(type=='odd'):\n",
    "        price=500\n",
    "        return price\n",
    "    elif(type=='even'):\n",
    "        price=400\n",
    "        return price\n",
    "    elif(type=='sweet' and housewithfreind=='yes'):\n",
    "        price=400\n",
    "        return price\n",
    "    else:\n",
    "        price=750\n",
    "        return price\n",
    "env.define_function(room_type_fun, name='room_type_fun')\n"
   ]
  },
  {
   "cell_type": "markdown",
   "metadata": {},
   "source": [
    "4_ function for house_floorView"
   ]
  },
  {
   "cell_type": "code",
   "execution_count": 12,
   "metadata": {},
   "outputs": [],
   "source": [
    "def floorView_func(view):\n",
    "    price=0\n",
    "    if(view=='east'):\n",
    "        price=50\n",
    "        return price\n",
    "    else:\n",
    "        price=100\n",
    "        return price\n",
    "env.define_function(floorView_func, name='floorView_func')\n",
    "    "
   ]
  },
  {
   "cell_type": "code",
   "execution_count": 13,
   "metadata": {},
   "outputs": [
    {
     "name": "stdout",
     "output_type": "stream",
     "text": [
      "(universityhousing (name \"maya\") (universiity_number \"555555\") (house_type vip) (house_time normal) (house_with no) (room_typee odd) (house_floor 4) (house_view east) (telephone_services no) (internet_services no) (clean_services no))\n",
      "(allprice 0)\n"
     ]
    }
   ],
   "source": [
    "for f in env.facts():\n",
    "    print(f)"
   ]
  },
  {
   "cell_type": "markdown",
   "metadata": {},
   "source": [
    "<h4>fourth : lets make our rule</h4>"
   ]
  },
  {
   "cell_type": "code",
   "execution_count": 14,
   "metadata": {},
   "outputs": [],
   "source": [
    "rule =\"\"\"\n",
    "(defrule housingPrice\n",
    "(universityhousing \n",
    "(name ?name)\n",
    "(universiity_number ?u)\n",
    "(house_type ?htype)\n",
    "(house_time ?htime)\n",
    "(house_with ?hw)\n",
    "(room_typee ?rt)\n",
    "(house_floor ?hf)\n",
    "(house_view ?hv)\n",
    "(telephone_services ?ts) \n",
    "(internet_services ?is)\n",
    "(clean_services ?cs))\n",
    "?allpriceinfact <- (allprice ?total)\n",
    "=>\n",
    "(bind ?a (house_type_fun ?htype))\n",
    "(bind ?b (house_time_fun ?htime))\n",
    "(bind ?c (room_type_fun ?rt ?hw))\n",
    "\n",
    "(if (> ?hf 2)\n",
    "then (bind ?d (floorView_func ?hv))\n",
    "\n",
    "(if (= ?hf 0)\n",
    "then (bind ?e -50))\n",
    "        \n",
    "(if (eq ?ts yes)\n",
    "then (bind ?f 25))\n",
    "\n",
    "(if (eq ?is yes)\n",
    "then (bind ?g 50))\n",
    "\n",
    "\n",
    "(if (eq ?cs yes)\n",
    "then (bind ?h 75))\n",
    "\n",
    "(retract ?allpriceinfact)\n",
    "(assert(allprice (+ ?total ?a )))\n",
    "       \n",
    ")\n",
    ")\"\"\""
   ]
  },
  {
   "cell_type": "code",
   "execution_count": 15,
   "metadata": {},
   "outputs": [],
   "source": [
    "env.build(rule)"
   ]
  },
  {
   "cell_type": "code",
   "execution_count": 16,
   "metadata": {},
   "outputs": [
    {
     "name": "stderr",
     "output_type": "stream",
     "text": [
      "Exception ignored from cffi callback <function python_function at 0x000002B58B9C7010>:\n",
      "Traceback (most recent call last):\n",
      "  File \"c:\\Users\\asus\\AppData\\Local\\Programs\\Python\\Python310\\lib\\site-packages\\clips\\functions.py\", line 432, in python_function\n",
      "    while lib.UDFHasNextArgument(context):\n",
      "KeyboardInterrupt: \n"
     ]
    }
   ],
   "source": [
    "env.run()"
   ]
  },
  {
   "cell_type": "code",
   "execution_count": null,
   "metadata": {},
   "outputs": [
    {
     "name": "stdout",
     "output_type": "stream",
     "text": [
      "(universityhousing (name \"mssfdff\") (universiity_number \"5545\") (house_type vip) (house_time normal) (house_with yes) (room_typee odd) (house_floor 5) (house_view east) (telephone_services no) (internet_services no) (clean_services yes))\n",
      "(allprice)\n"
     ]
    }
   ],
   "source": [
    "for f in env.facts():\n",
    "    print(f)"
   ]
  },
  {
   "cell_type": "code",
   "execution_count": null,
   "metadata": {},
   "outputs": [],
   "source": []
  },
  {
   "cell_type": "code",
   "execution_count": null,
   "metadata": {},
   "outputs": [],
   "source": []
  }
 ],
 "metadata": {
  "kernelspec": {
   "display_name": "Python 3",
   "language": "python",
   "name": "python3"
  },
  "language_info": {
   "codemirror_mode": {
    "name": "ipython",
    "version": 3
   },
   "file_extension": ".py",
   "mimetype": "text/x-python",
   "name": "python",
   "nbconvert_exporter": "python",
   "pygments_lexer": "ipython3",
   "version": "3.10.8"
  },
  "orig_nbformat": 4
 },
 "nbformat": 4,
 "nbformat_minor": 2
}
